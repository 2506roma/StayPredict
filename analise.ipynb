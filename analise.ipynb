{
 "cells": [
  {
   "cell_type": "markdown",
   "metadata": {},
   "source": [
    "Análisando Dados com Python\n",
    "\n",
    "Case - Cancelamento de Clientes\n",
    "\n",
    "Você foi contratado por uma empresa com mais de 800 mil clientes para um projeto de Dados.\n",
    "Recentemente a empresa percebeu que da sua base total de clientes, a maioria são clientes inativos, ou\n",
    "seja, que já cancelaram o serviço.\n",
    "\n",
    "Precisando melhorar seus resultados ela quer conseguir entender os principais motivos desses\n",
    "cancelamentos e quais as ações mais eficientes para reduzir esse número."
   ]
  },
  {
   "cell_type": "code",
   "execution_count": null,
   "metadata": {},
   "outputs": [],
   "source": [
    "# Passo 1: Importar a base de dados\n",
    "# Passo 2: Visualizar a base de dados (Entender a base e indentificar problemas)\n",
    "# Passo 3: Corrigir os problemas da base de dados (Tratamendo de dados)\n",
    "# Passo 4: Análise Inicial -> Quantos clientes cancelaram e qual o % de clientes\n",
    "# Passo 5: Análise da causa de cancelamento dos clientes"
   ]
  }
 ],
 "metadata": {
  "language_info": {
   "name": "python"
  }
 },
 "nbformat": 4,
 "nbformat_minor": 2
}
