{
 "cells": [
  {
   "cell_type": "markdown",
   "metadata": {},
   "source": [
    "# Python Insights - Analisando Dados com Python\n",
    "\n",
    "### Case - Cancelamento de Clientes\n",
    "\n",
    "\n"
   ]
  },
  {
   "cell_type": "code",
   "execution_count": 1,
   "metadata": {},
   "outputs": [
    {
     "ename": "ModuleNotFoundError",
     "evalue": "No module named 'pandas'",
     "output_type": "error",
     "traceback": [
      "\u001b[31m---------------------------------------------------------------------------\u001b[39m",
      "\u001b[31mModuleNotFoundError\u001b[39m                       Traceback (most recent call last)",
      "\u001b[36mCell\u001b[39m\u001b[36m \u001b[39m\u001b[32mIn[1]\u001b[39m\u001b[32m, line 3\u001b[39m\n\u001b[32m      1\u001b[39m \u001b[38;5;66;03m# Passo a passo\u001b[39;00m\n\u001b[32m      2\u001b[39m \u001b[38;5;66;03m# Passo 1: Importar a base de dados\u001b[39;00m\n\u001b[32m----> \u001b[39m\u001b[32m3\u001b[39m \u001b[38;5;28;01mimport\u001b[39;00m\u001b[38;5;250m \u001b[39m\u001b[34;01mpandas\u001b[39;00m\u001b[38;5;250m \u001b[39m\u001b[38;5;28;01mas\u001b[39;00m\u001b[38;5;250m \u001b[39m\u001b[34;01mpd\u001b[39;00m\n\u001b[32m      4\u001b[39m tabela = pd.read_csv(\u001b[33m\"\u001b[39m\u001b[33mcancelamentos_sample.csv\u001b[39m\u001b[33m\"\u001b[39m)\n\u001b[32m      5\u001b[39m \u001b[38;5;28mprint\u001b[39m(tabela)\n",
      "\u001b[31mModuleNotFoundError\u001b[39m: No module named 'pandas'"
     ]
    }
   ],
   "source": [
    "# Passo a passo\n",
    "# Passo 1: Importar a base de dados\n",
    "import pandas as pd\n",
    "tabela = pd.read_csv(\"cancelamentos_sample.csv\")\n",
    "print(tabela)"
   ]
  },
  {
   "cell_type": "code",
   "execution_count": null,
   "metadata": {},
   "outputs": [
    {
     "name": "stdout",
     "output_type": "stream",
     "text": [
      "       idade    sexo  tempo_como_cliente  frequencia_uso  ligacoes_callcenter  \\\n",
      "0       23.0    Male                13.0            22.0                  2.0   \n",
      "1       49.0    Male                55.0            16.0                  3.0   \n",
      "2       30.0    Male                 7.0             1.0                  0.0   \n",
      "3       26.0    Male                40.0             5.0                  3.0   \n",
      "4       27.0  Female                17.0            30.0                  5.0   \n",
      "...      ...     ...                 ...             ...                  ...   \n",
      "49995   62.0  Female                35.0             7.0                  2.0   \n",
      "49996   36.0    Male                43.0            21.0                  2.0   \n",
      "49997   55.0    Male                42.0             8.0                  1.0   \n",
      "49998   40.0  Female                14.0            19.0                  1.0   \n",
      "49999   64.0    Male                41.0            29.0                  5.0   \n",
      "\n",
      "       dias_atraso assinatura duracao_contrato  total_gasto  \\\n",
      "0              1.0   Standard           Annual       909.58   \n",
      "1              6.0    Premium          Monthly       207.00   \n",
      "2              8.0      Basic           Annual       768.78   \n",
      "3              8.0    Premium           Annual       398.00   \n",
      "4              6.0      Basic           Annual       507.00   \n",
      "...            ...        ...              ...          ...   \n",
      "49995          8.0      Basic           Annual       232.00   \n",
      "49996         30.0      Basic        Quarterly       928.00   \n",
      "49997         12.0      Basic          Monthly       326.00   \n",
      "49998         17.0    Premium        Quarterly       826.76   \n",
      "49999          9.0      Basic        Quarterly       700.38   \n",
      "\n",
      "       meses_ultima_interacao  cancelou  \n",
      "0                        23.0       0.0  \n",
      "1                        29.0       1.0  \n",
      "2                         7.0       0.0  \n",
      "3                        12.0       1.0  \n",
      "4                        15.0       1.0  \n",
      "...                       ...       ...  \n",
      "49995                    15.0       1.0  \n",
      "49996                    30.0       1.0  \n",
      "49997                    27.0       1.0  \n",
      "49998                    12.0       0.0  \n",
      "49999                    18.0       1.0  \n",
      "\n",
      "[50000 rows x 11 columns]\n"
     ]
    }
   ],
   "source": [
    "# Passo 2: Visualizar a base de dados (entender a base + identificar problemas)\n",
    "# Informações que não te ajudam\n",
    "# CustomerID\n",
    "\n",
    "tabela = tabela.drop(columns=tabela.columns[0]) #Removendo a coluna \n",
    "print(tabela)"
   ]
  },
  {
   "cell_type": "code",
   "execution_count": null,
   "metadata": {},
   "outputs": [
    {
     "name": "stdout",
     "output_type": "stream",
     "text": [
      "<class 'pandas.core.frame.DataFrame'>\n",
      "RangeIndex: 50000 entries, 0 to 49999\n",
      "Data columns (total 11 columns):\n",
      " #   Column                  Non-Null Count  Dtype  \n",
      "---  ------                  --------------  -----  \n",
      " 0   idade                   50000 non-null  float64\n",
      " 1   sexo                    49997 non-null  object \n",
      " 2   tempo_como_cliente      49998 non-null  float64\n",
      " 3   frequencia_uso          50000 non-null  float64\n",
      " 4   ligacoes_callcenter     50000 non-null  float64\n",
      " 5   dias_atraso             50000 non-null  float64\n",
      " 6   assinatura              50000 non-null  object \n",
      " 7   duracao_contrato        50000 non-null  object \n",
      " 8   total_gasto             50000 non-null  float64\n",
      " 9   meses_ultima_interacao  50000 non-null  float64\n",
      " 10  cancelou                50000 non-null  float64\n",
      "dtypes: float64(8), object(3)\n",
      "memory usage: 4.2+ MB\n",
      "None\n",
      "<class 'pandas.core.frame.DataFrame'>\n",
      "Index: 49996 entries, 0 to 49999\n",
      "Data columns (total 11 columns):\n",
      " #   Column                  Non-Null Count  Dtype  \n",
      "---  ------                  --------------  -----  \n",
      " 0   idade                   49996 non-null  float64\n",
      " 1   sexo                    49996 non-null  object \n",
      " 2   tempo_como_cliente      49996 non-null  float64\n",
      " 3   frequencia_uso          49996 non-null  float64\n",
      " 4   ligacoes_callcenter     49996 non-null  float64\n",
      " 5   dias_atraso             49996 non-null  float64\n",
      " 6   assinatura              49996 non-null  object \n",
      " 7   duracao_contrato        49996 non-null  object \n",
      " 8   total_gasto             49996 non-null  float64\n",
      " 9   meses_ultima_interacao  49996 non-null  float64\n",
      " 10  cancelou                49996 non-null  float64\n",
      "dtypes: float64(8), object(3)\n",
      "memory usage: 4.6+ MB\n",
      "None\n"
     ]
    }
   ],
   "source": [
    "# Passo 3: Corrigir os problemas da base de dados (tratamento de dados)\n",
    "# Valores vazios\n",
    "print(tabela.info()) #Vizualizando as colunas e informações\n",
    "tabela = tabela.dropna()\n",
    "print(tabela.info())"
   ]
  },
  {
   "cell_type": "code",
   "execution_count": null,
   "metadata": {},
   "outputs": [
    {
     "name": "stdout",
     "output_type": "stream",
     "text": [
      "cancelou\n",
      "1.0    28393\n",
      "0.0    21603\n",
      "Name: count, dtype: int64\n",
      "cancelou\n",
      "1.0    0.567905\n",
      "0.0    0.432095\n",
      "Name: proportion, dtype: float64\n"
     ]
    }
   ],
   "source": [
    "# Passo 4: Análise Inicial -> quantos clientes cancelaram e qual o % de clientes\n",
    "# Contar as colunas que cancelou\n",
    "print(tabela[\"cancelou\"].value_counts())\n",
    "\n",
    "print(tabela[\"cancelou\"].value_counts(normalize=True))"
   ]
  },
  {
   "cell_type": "code",
   "execution_count": null,
   "metadata": {},
   "outputs": [],
   "source": [
    "# Passo 5: Análise da causa de cancelamento dos clientes\n",
    "# comparar as outras colunas da tabela com a coluna de cancelamento\n",
    "import plotly.io as pio\n",
    "pio.renderers.default = 'browser'\n",
    "\n",
    "import plotly.express as px\n",
    "\n",
    "# Criando o Gráfico\n",
    "grafico = px.histogram(tabela, x=\"duracao_contrato\", color=\"cancelou\", text_auto=True) \n",
    "# Exibindo o Gráfico\n",
    "grafico.show()"
   ]
  },
  {
   "cell_type": "code",
   "execution_count": null,
   "metadata": {},
   "outputs": [],
   "source": [
    "# Colunas dinâmica\n",
    "for coluna in tabela.columns:\n",
    "    \n",
    "    grafico = px.histogram(tabela, x=coluna, color=\"cancelou\", text_auto=True)\n",
    "    grafico.show()"
   ]
  },
  {
   "cell_type": "code",
   "execution_count": null,
   "metadata": {},
   "outputs": [
    {
     "name": "stdout",
     "output_type": "stream",
     "text": [
      "cancelou\n",
      "0.0    0.816462\n",
      "1.0    0.183538\n",
      "Name: proportion, dtype: float64\n"
     ]
    }
   ],
   "source": [
    "# Usuarios do contrato mensal sempre cancelam \n",
    "    # Evitar o contrato mensal e incentivar ( Com Desconto ) os contratos anuais e trimestrais\n",
    "\n",
    "# Todos os usuários que ligaram mais de 4X para o call center, cancelam o serviço\n",
    "    # Criar um processo que quando um usuário ligou 3 vezes para o call center, alerta vermelho\n",
    "\n",
    "# Usuário que atrasaram o pagamento mais de 20 dias, cancelaram.\n",
    "    # Criar um alerta para o atraso do pagamento bater 15 dias, entrar em contato\n",
    "\n",
    "# duracao_contrato -> diferente de mensal\n",
    "tabela = tabela[tabela[\"duracao_contrato\"]!=\"Monthly\"] # Selecionando uma coluna da tabela com a condição que não tenha o plano (Mensal = Monthly)\n",
    "\n",
    "# ligacoes_callcenter <= 4\n",
    "tabela = tabela[tabela[\"ligacoes_callcenter\"]<=4] # Selecionando uma coluna da tabela com condição de ligações menores de 4 vezes\n",
    "\n",
    "# atraso_pagamento <= 20 dias\n",
    "tabela = tabela[tabela[\"dias_atraso\"]<=20]\n",
    "\n",
    "print(tabela[\"cancelou\"].value_counts(normalize=True)) # Selecionando a tabelha e retirando atraso no pagamento menores que 20 dias \n",
    "\n",
    "grafico = px.histogram(tabela, x=coluna, color=\"cancelou\", text_auto=True)\n",
    "grafico.show()\n",
    "\n"
   ]
  }
 ],
 "metadata": {
  "kernelspec": {
   "display_name": "Python 3",
   "language": "python",
   "name": "python3"
  },
  "language_info": {
   "codemirror_mode": {
    "name": "ipython",
    "version": 3
   },
   "file_extension": ".py",
   "mimetype": "text/x-python",
   "name": "python",
   "nbconvert_exporter": "python",
   "pygments_lexer": "ipython3",
   "version": "3.11.9"
  },
  "orig_nbformat": 4
 },
 "nbformat": 4,
 "nbformat_minor": 2
}
